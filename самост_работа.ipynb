{
  "nbformat": 4,
  "nbformat_minor": 0,
  "metadata": {
    "colab": {
      "provenance": [],
      "authorship_tag": "ABX9TyOtT4A1pBVUJOUKn9r4C7CD",
      "include_colab_link": true
    },
    "kernelspec": {
      "name": "python3",
      "display_name": "Python 3"
    },
    "language_info": {
      "name": "python"
    }
  },
  "cells": [
    {
      "cell_type": "markdown",
      "metadata": {
        "id": "view-in-github",
        "colab_type": "text"
      },
      "source": [
        "<a href=\"https://colab.research.google.com/github/alex160798/project_02/blob/main/%D1%81%D0%B0%D0%BC%D0%BE%D1%81%D1%82_%D1%80%D0%B0%D0%B1%D0%BE%D1%82%D0%B0.ipynb\" target=\"_parent\"><img src=\"https://colab.research.google.com/assets/colab-badge.svg\" alt=\"Open In Colab\"/></a>"
      ]
    },
    {
      "cell_type": "markdown",
      "source": [
        "# Самостоятельная работа"
      ],
      "metadata": {
        "id": "OtvhXvBRqoDb"
      }
    },
    {
      "cell_type": "code",
      "source": [
        "import sqlite3\n",
        "\n",
        "def get_connection():\n",
        "  connection = sqlite3.connect('teachers.db')\n",
        "  return connection\n",
        "\n",
        "def close_connection(connection):\n",
        "  if connection:\n",
        "    connection.close()\n",
        "\n",
        "def create_table():\n",
        "  try:\n",
        "    connection = get_connection()\n",
        "    cursor = connection.cursor()\n",
        "    query = (\"\"\"CREATE TABLE Students\n",
        "                (\n",
        "                \t  Student_id INTEGER NOT NULL PRIMARY KEY,\n",
        "                  \tStudent_name varchar(100) NOT NULL,\n",
        "                  \tSchool_id INTEGER NOT NULL\n",
        "                );\"\"\")\n",
        "    \n",
        "    cursor.execute(query)\n",
        "    connection.commit()\n",
        "    close_connection(connection)\n",
        "\n",
        "  except (Exception, sqlite3.Error) as error:\n",
        "    print('Ошибка при создании таблицы:', error)\n",
        "\n",
        "def fill_table():\n",
        "  try:\n",
        "    connection = get_connection()\n",
        "    cursor = connection.cursor()\n",
        "    query = (\"\"\"INSERT INTO Students(student_id, student_name, school_id)\n",
        "                VALUES\n",
        "                \t  (201, \"Иван\", 1),\n",
        "                    (202, \"Петр\", 2),\n",
        "                    (203, \"Анастасия\", 3),\n",
        "                    (204, \"Игорь\", 4);\"\"\")\n",
        "    \n",
        "    cursor.execute(query)\n",
        "    \n",
        "    # проверка\n",
        "    # query = ('SELECT * from Students')\n",
        "    # data = cursor.execute(query)\n",
        "    # print(*data)\n",
        "\n",
        "    connection.commit()\n",
        "    close_connection(connection)\n",
        "\n",
        "  except (Exception, sqlite3.Error) as error:\n",
        "    print('Ошибка при заполнении таблицы:', error)\n",
        "\n",
        "def get_student(student_id):\n",
        "  try:\n",
        "    connection = get_connection()\n",
        "    cursor = connection.cursor()\n",
        "    query = (\"\"\"SELECT st.student_id, st.student_name, sc.school_id, sc.school_name\n",
        "                FROM Students AS st\n",
        "                  JOIN School AS sc\n",
        "                      ON st.School_id = sc.School_Id\n",
        "                WHERE st.student_id = ?\"\"\")\n",
        "    cursor.execute(query, (student_id, ))\n",
        "    records = cursor.fetchall()\n",
        "    print(f'Студент №{student_id}:\\n')\n",
        "    \n",
        "    for row in records:\n",
        "      print('\\tID студента:', row[0])\n",
        "      print('\\tИмя:', row[1])\n",
        "      print('\\tID школы:', row[2])\n",
        "      print('\\tНазвание школы:', row[3],'\\n')\n",
        "    \n",
        "    close_connection(connection)\n",
        "  \n",
        "  except (Exception, sqlite3.Error) as error:\n",
        "    print('Ошибка в получении данных по студенту:\\n', error)\n",
        "\n",
        "print('Самостоятельная работа')\n",
        "create_table()\n",
        "fill_table()\n",
        "get_student(202)"
      ],
      "metadata": {
        "colab": {
          "base_uri": "https://localhost:8080/"
        },
        "id": "UaIXHlQ3nZ1M",
        "outputId": "a244c834-18a4-44ae-bed1-e7069f943854"
      },
      "execution_count": 40,
      "outputs": [
        {
          "output_type": "stream",
          "name": "stdout",
          "text": [
            "Самостоятельная работа\n",
            "Ошибка при создании таблицы: table Students already exists\n",
            "Ошибка при заполнении таблицы: UNIQUE constraint failed: Students.Student_id\n",
            "Студент №202:\n",
            "\n",
            "\tID студента: 202\n",
            "\tИмя: Петр\n",
            "\tID школы: 2\n",
            "\tНазвание школы: Преспектива \n",
            "\n"
          ]
        }
      ]
    },
    {
      "cell_type": "code",
      "source": [],
      "metadata": {
        "id": "28ZXSa6pw-dn"
      },
      "execution_count": null,
      "outputs": []
    }
  ]
}